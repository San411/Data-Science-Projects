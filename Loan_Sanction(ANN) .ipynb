{
  "nbformat": 4,
  "nbformat_minor": 0,
  "metadata": {
    "colab": {
      "name": "Loan Sanction",
      "provenance": [],
      "collapsed_sections": []
    },
    "kernelspec": {
      "name": "python3",
      "display_name": "Python 3"
    }
  },
  "cells": [
    {
      "cell_type": "code",
      "metadata": {
        "id": "JRQLArdQjQcH",
        "colab_type": "code",
        "colab": {
          "base_uri": "https://localhost:8080/",
          "height": 70
        },
        "outputId": "5d897fee-21c7-4a4a-cd43-b1943ccdffbf"
      },
      "source": [
        "import numpy as np\n",
        "import pandas as pd\n",
        "import matplotlib.pyplot as plt\n",
        "import seaborn as sns\n",
        "import tensorflow as tf"
      ],
      "execution_count": 1,
      "outputs": [
        {
          "output_type": "stream",
          "text": [
            "/usr/local/lib/python3.6/dist-packages/statsmodels/tools/_testing.py:19: FutureWarning: pandas.util.testing is deprecated. Use the functions in the public API at pandas.testing instead.\n",
            "  import pandas.util.testing as tm\n"
          ],
          "name": "stderr"
        }
      ]
    },
    {
      "cell_type": "code",
      "metadata": {
        "id": "8iGy12-Oj3jR",
        "colab_type": "code",
        "colab": {
          "base_uri": "https://localhost:8080/",
          "height": 232
        },
        "outputId": "967caf58-e784-4240-a5e1-3882c74cf4b9"
      },
      "source": [
        "dataframe = pd.read_csv('train.csv')\n",
        "dataframe = dataframe.drop(columns=[\"Loan_ID\"])\n",
        "dataframe.head()"
      ],
      "execution_count": 2,
      "outputs": [
        {
          "output_type": "execute_result",
          "data": {
            "text/html": [
              "<div>\n",
              "<style scoped>\n",
              "    .dataframe tbody tr th:only-of-type {\n",
              "        vertical-align: middle;\n",
              "    }\n",
              "\n",
              "    .dataframe tbody tr th {\n",
              "        vertical-align: top;\n",
              "    }\n",
              "\n",
              "    .dataframe thead th {\n",
              "        text-align: right;\n",
              "    }\n",
              "</style>\n",
              "<table border=\"1\" class=\"dataframe\">\n",
              "  <thead>\n",
              "    <tr style=\"text-align: right;\">\n",
              "      <th></th>\n",
              "      <th>Gender</th>\n",
              "      <th>Married</th>\n",
              "      <th>Dependents</th>\n",
              "      <th>Education</th>\n",
              "      <th>Self_Employed</th>\n",
              "      <th>ApplicantIncome</th>\n",
              "      <th>CoapplicantIncome</th>\n",
              "      <th>LoanAmount</th>\n",
              "      <th>Loan_Amount_Term</th>\n",
              "      <th>Credit_History</th>\n",
              "      <th>Property_Area</th>\n",
              "      <th>Loan_Status</th>\n",
              "    </tr>\n",
              "  </thead>\n",
              "  <tbody>\n",
              "    <tr>\n",
              "      <th>0</th>\n",
              "      <td>Male</td>\n",
              "      <td>No</td>\n",
              "      <td>0</td>\n",
              "      <td>Graduate</td>\n",
              "      <td>No</td>\n",
              "      <td>5849</td>\n",
              "      <td>0.0</td>\n",
              "      <td>NaN</td>\n",
              "      <td>360.0</td>\n",
              "      <td>1.0</td>\n",
              "      <td>Urban</td>\n",
              "      <td>Y</td>\n",
              "    </tr>\n",
              "    <tr>\n",
              "      <th>1</th>\n",
              "      <td>Male</td>\n",
              "      <td>Yes</td>\n",
              "      <td>1</td>\n",
              "      <td>Graduate</td>\n",
              "      <td>No</td>\n",
              "      <td>4583</td>\n",
              "      <td>1508.0</td>\n",
              "      <td>128.0</td>\n",
              "      <td>360.0</td>\n",
              "      <td>1.0</td>\n",
              "      <td>Rural</td>\n",
              "      <td>N</td>\n",
              "    </tr>\n",
              "    <tr>\n",
              "      <th>2</th>\n",
              "      <td>Male</td>\n",
              "      <td>Yes</td>\n",
              "      <td>0</td>\n",
              "      <td>Graduate</td>\n",
              "      <td>Yes</td>\n",
              "      <td>3000</td>\n",
              "      <td>0.0</td>\n",
              "      <td>66.0</td>\n",
              "      <td>360.0</td>\n",
              "      <td>1.0</td>\n",
              "      <td>Urban</td>\n",
              "      <td>Y</td>\n",
              "    </tr>\n",
              "    <tr>\n",
              "      <th>3</th>\n",
              "      <td>Male</td>\n",
              "      <td>Yes</td>\n",
              "      <td>0</td>\n",
              "      <td>Not Graduate</td>\n",
              "      <td>No</td>\n",
              "      <td>2583</td>\n",
              "      <td>2358.0</td>\n",
              "      <td>120.0</td>\n",
              "      <td>360.0</td>\n",
              "      <td>1.0</td>\n",
              "      <td>Urban</td>\n",
              "      <td>Y</td>\n",
              "    </tr>\n",
              "    <tr>\n",
              "      <th>4</th>\n",
              "      <td>Male</td>\n",
              "      <td>No</td>\n",
              "      <td>0</td>\n",
              "      <td>Graduate</td>\n",
              "      <td>No</td>\n",
              "      <td>6000</td>\n",
              "      <td>0.0</td>\n",
              "      <td>141.0</td>\n",
              "      <td>360.0</td>\n",
              "      <td>1.0</td>\n",
              "      <td>Urban</td>\n",
              "      <td>Y</td>\n",
              "    </tr>\n",
              "  </tbody>\n",
              "</table>\n",
              "</div>"
            ],
            "text/plain": [
              "  Gender Married Dependents  ... Credit_History Property_Area  Loan_Status\n",
              "0   Male      No          0  ...            1.0         Urban            Y\n",
              "1   Male     Yes          1  ...            1.0         Rural            N\n",
              "2   Male     Yes          0  ...            1.0         Urban            Y\n",
              "3   Male     Yes          0  ...            1.0         Urban            Y\n",
              "4   Male      No          0  ...            1.0         Urban            Y\n",
              "\n",
              "[5 rows x 12 columns]"
            ]
          },
          "metadata": {
            "tags": []
          },
          "execution_count": 2
        }
      ]
    },
    {
      "cell_type": "code",
      "metadata": {
        "id": "tzVEtiylj9Hf",
        "colab_type": "code",
        "colab": {
          "base_uri": "https://localhost:8080/",
          "height": 336
        },
        "outputId": "a2e6fdfe-56e8-4b86-cf53-6e724fccbc85"
      },
      "source": [
        "dataframe.info()"
      ],
      "execution_count": 3,
      "outputs": [
        {
          "output_type": "stream",
          "text": [
            "<class 'pandas.core.frame.DataFrame'>\n",
            "RangeIndex: 614 entries, 0 to 613\n",
            "Data columns (total 12 columns):\n",
            " #   Column             Non-Null Count  Dtype  \n",
            "---  ------             --------------  -----  \n",
            " 0   Gender             601 non-null    object \n",
            " 1   Married            611 non-null    object \n",
            " 2   Dependents         599 non-null    object \n",
            " 3   Education          614 non-null    object \n",
            " 4   Self_Employed      582 non-null    object \n",
            " 5   ApplicantIncome    614 non-null    int64  \n",
            " 6   CoapplicantIncome  614 non-null    float64\n",
            " 7   LoanAmount         592 non-null    float64\n",
            " 8   Loan_Amount_Term   600 non-null    float64\n",
            " 9   Credit_History     564 non-null    float64\n",
            " 10  Property_Area      614 non-null    object \n",
            " 11  Loan_Status        614 non-null    object \n",
            "dtypes: float64(4), int64(1), object(7)\n",
            "memory usage: 57.7+ KB\n"
          ],
          "name": "stdout"
        }
      ]
    },
    {
      "cell_type": "code",
      "metadata": {
        "id": "iFhrhTdDFuUw",
        "colab_type": "code",
        "colab": {
          "base_uri": "https://localhost:8080/",
          "height": 235
        },
        "outputId": "4b39cc47-f30f-4b08-8ed5-21f0b1fea96f"
      },
      "source": [
        "dataframe.isnull().sum().sort_values(ascending = False)"
      ],
      "execution_count": 4,
      "outputs": [
        {
          "output_type": "execute_result",
          "data": {
            "text/plain": [
              "Credit_History       50\n",
              "Self_Employed        32\n",
              "LoanAmount           22\n",
              "Dependents           15\n",
              "Loan_Amount_Term     14\n",
              "Gender               13\n",
              "Married               3\n",
              "Loan_Status           0\n",
              "Property_Area         0\n",
              "CoapplicantIncome     0\n",
              "ApplicantIncome       0\n",
              "Education             0\n",
              "dtype: int64"
            ]
          },
          "metadata": {
            "tags": []
          },
          "execution_count": 4
        }
      ]
    },
    {
      "cell_type": "code",
      "metadata": {
        "id": "ExtJLNQtyFQt",
        "colab_type": "code",
        "colab": {
          "base_uri": "https://localhost:8080/",
          "height": 34
        },
        "outputId": "8ed14017-ad9a-4655-c60f-f1f6d7547966"
      },
      "source": [
        "len(dataframe)"
      ],
      "execution_count": 5,
      "outputs": [
        {
          "output_type": "execute_result",
          "data": {
            "text/plain": [
              "614"
            ]
          },
          "metadata": {
            "tags": []
          },
          "execution_count": 5
        }
      ]
    },
    {
      "cell_type": "code",
      "metadata": {
        "id": "oJBmeWOicsqQ",
        "colab_type": "code",
        "colab": {}
      },
      "source": [
        "# dataframe.iloc[:, 2] = dataframe.iloc[:, -2]\n",
        "# dataframe = dataframe.rename(columns = {\"Dependents\":\"Property_Area\",  \"Property_Area\":\"Dependents\" })\n",
        "# dataframe.head()"
      ],
      "execution_count": 6,
      "outputs": []
    },
    {
      "cell_type": "code",
      "metadata": {
        "id": "7s67aisYFwyw",
        "colab_type": "code",
        "colab": {
          "base_uri": "https://localhost:8080/",
          "height": 363
        },
        "outputId": "e0ba4416-4022-4211-d61a-05b0e89b8375"
      },
      "source": [
        "from sklearn.preprocessing import LabelEncoder\n",
        "cat_features=[x for x in dataframe.columns if dataframe[x].dtype==\"object\"]\n",
        "le=LabelEncoder()\n",
        "for col in cat_features:\n",
        "    if col in dataframe.columns:\n",
        "        i = dataframe.columns.get_loc(col)\n",
        "        dataframe.iloc[:,i] = dataframe.apply(lambda i:le.fit_transform(i.astype(str)), axis=0, result_type='expand')\n",
        "dataframe.head(10)"
      ],
      "execution_count": 7,
      "outputs": [
        {
          "output_type": "execute_result",
          "data": {
            "text/html": [
              "<div>\n",
              "<style scoped>\n",
              "    .dataframe tbody tr th:only-of-type {\n",
              "        vertical-align: middle;\n",
              "    }\n",
              "\n",
              "    .dataframe tbody tr th {\n",
              "        vertical-align: top;\n",
              "    }\n",
              "\n",
              "    .dataframe thead th {\n",
              "        text-align: right;\n",
              "    }\n",
              "</style>\n",
              "<table border=\"1\" class=\"dataframe\">\n",
              "  <thead>\n",
              "    <tr style=\"text-align: right;\">\n",
              "      <th></th>\n",
              "      <th>Gender</th>\n",
              "      <th>Married</th>\n",
              "      <th>Dependents</th>\n",
              "      <th>Education</th>\n",
              "      <th>Self_Employed</th>\n",
              "      <th>ApplicantIncome</th>\n",
              "      <th>CoapplicantIncome</th>\n",
              "      <th>LoanAmount</th>\n",
              "      <th>Loan_Amount_Term</th>\n",
              "      <th>Credit_History</th>\n",
              "      <th>Property_Area</th>\n",
              "      <th>Loan_Status</th>\n",
              "    </tr>\n",
              "  </thead>\n",
              "  <tbody>\n",
              "    <tr>\n",
              "      <th>0</th>\n",
              "      <td>1</td>\n",
              "      <td>0</td>\n",
              "      <td>0</td>\n",
              "      <td>0</td>\n",
              "      <td>0</td>\n",
              "      <td>5849</td>\n",
              "      <td>0.0</td>\n",
              "      <td>NaN</td>\n",
              "      <td>360.0</td>\n",
              "      <td>1.0</td>\n",
              "      <td>2</td>\n",
              "      <td>1</td>\n",
              "    </tr>\n",
              "    <tr>\n",
              "      <th>1</th>\n",
              "      <td>1</td>\n",
              "      <td>1</td>\n",
              "      <td>1</td>\n",
              "      <td>0</td>\n",
              "      <td>0</td>\n",
              "      <td>4583</td>\n",
              "      <td>1508.0</td>\n",
              "      <td>128.0</td>\n",
              "      <td>360.0</td>\n",
              "      <td>1.0</td>\n",
              "      <td>0</td>\n",
              "      <td>0</td>\n",
              "    </tr>\n",
              "    <tr>\n",
              "      <th>2</th>\n",
              "      <td>1</td>\n",
              "      <td>1</td>\n",
              "      <td>0</td>\n",
              "      <td>0</td>\n",
              "      <td>1</td>\n",
              "      <td>3000</td>\n",
              "      <td>0.0</td>\n",
              "      <td>66.0</td>\n",
              "      <td>360.0</td>\n",
              "      <td>1.0</td>\n",
              "      <td>2</td>\n",
              "      <td>1</td>\n",
              "    </tr>\n",
              "    <tr>\n",
              "      <th>3</th>\n",
              "      <td>1</td>\n",
              "      <td>1</td>\n",
              "      <td>0</td>\n",
              "      <td>1</td>\n",
              "      <td>0</td>\n",
              "      <td>2583</td>\n",
              "      <td>2358.0</td>\n",
              "      <td>120.0</td>\n",
              "      <td>360.0</td>\n",
              "      <td>1.0</td>\n",
              "      <td>2</td>\n",
              "      <td>1</td>\n",
              "    </tr>\n",
              "    <tr>\n",
              "      <th>4</th>\n",
              "      <td>1</td>\n",
              "      <td>0</td>\n",
              "      <td>0</td>\n",
              "      <td>0</td>\n",
              "      <td>0</td>\n",
              "      <td>6000</td>\n",
              "      <td>0.0</td>\n",
              "      <td>141.0</td>\n",
              "      <td>360.0</td>\n",
              "      <td>1.0</td>\n",
              "      <td>2</td>\n",
              "      <td>1</td>\n",
              "    </tr>\n",
              "    <tr>\n",
              "      <th>5</th>\n",
              "      <td>1</td>\n",
              "      <td>1</td>\n",
              "      <td>2</td>\n",
              "      <td>0</td>\n",
              "      <td>1</td>\n",
              "      <td>5417</td>\n",
              "      <td>4196.0</td>\n",
              "      <td>267.0</td>\n",
              "      <td>360.0</td>\n",
              "      <td>1.0</td>\n",
              "      <td>2</td>\n",
              "      <td>1</td>\n",
              "    </tr>\n",
              "    <tr>\n",
              "      <th>6</th>\n",
              "      <td>1</td>\n",
              "      <td>1</td>\n",
              "      <td>0</td>\n",
              "      <td>1</td>\n",
              "      <td>0</td>\n",
              "      <td>2333</td>\n",
              "      <td>1516.0</td>\n",
              "      <td>95.0</td>\n",
              "      <td>360.0</td>\n",
              "      <td>1.0</td>\n",
              "      <td>2</td>\n",
              "      <td>1</td>\n",
              "    </tr>\n",
              "    <tr>\n",
              "      <th>7</th>\n",
              "      <td>1</td>\n",
              "      <td>1</td>\n",
              "      <td>3</td>\n",
              "      <td>0</td>\n",
              "      <td>0</td>\n",
              "      <td>3036</td>\n",
              "      <td>2504.0</td>\n",
              "      <td>158.0</td>\n",
              "      <td>360.0</td>\n",
              "      <td>0.0</td>\n",
              "      <td>1</td>\n",
              "      <td>0</td>\n",
              "    </tr>\n",
              "    <tr>\n",
              "      <th>8</th>\n",
              "      <td>1</td>\n",
              "      <td>1</td>\n",
              "      <td>2</td>\n",
              "      <td>0</td>\n",
              "      <td>0</td>\n",
              "      <td>4006</td>\n",
              "      <td>1526.0</td>\n",
              "      <td>168.0</td>\n",
              "      <td>360.0</td>\n",
              "      <td>1.0</td>\n",
              "      <td>2</td>\n",
              "      <td>1</td>\n",
              "    </tr>\n",
              "    <tr>\n",
              "      <th>9</th>\n",
              "      <td>1</td>\n",
              "      <td>1</td>\n",
              "      <td>1</td>\n",
              "      <td>0</td>\n",
              "      <td>0</td>\n",
              "      <td>12841</td>\n",
              "      <td>10968.0</td>\n",
              "      <td>349.0</td>\n",
              "      <td>360.0</td>\n",
              "      <td>1.0</td>\n",
              "      <td>1</td>\n",
              "      <td>0</td>\n",
              "    </tr>\n",
              "  </tbody>\n",
              "</table>\n",
              "</div>"
            ],
            "text/plain": [
              "   Gender  Married  Dependents  ...  Credit_History  Property_Area  Loan_Status\n",
              "0       1        0           0  ...             1.0              2            1\n",
              "1       1        1           1  ...             1.0              0            0\n",
              "2       1        1           0  ...             1.0              2            1\n",
              "3       1        1           0  ...             1.0              2            1\n",
              "4       1        0           0  ...             1.0              2            1\n",
              "5       1        1           2  ...             1.0              2            1\n",
              "6       1        1           0  ...             1.0              2            1\n",
              "7       1        1           3  ...             0.0              1            0\n",
              "8       1        1           2  ...             1.0              2            1\n",
              "9       1        1           1  ...             1.0              1            0\n",
              "\n",
              "[10 rows x 12 columns]"
            ]
          },
          "metadata": {
            "tags": []
          },
          "execution_count": 7
        }
      ]
    },
    {
      "cell_type": "code",
      "metadata": {
        "id": "nTHcmgdMb89b",
        "colab_type": "code",
        "colab": {
          "base_uri": "https://localhost:8080/",
          "height": 700
        },
        "outputId": "203ad26a-704e-4c20-8e8f-fca85607b6d9"
      },
      "source": [
        "plt.figure(figsize=(10,10))\n",
        "print(sns.heatmap(dataframe.corr(), annot=True, fmt='.2f'))"
      ],
      "execution_count": 8,
      "outputs": [
        {
          "output_type": "stream",
          "text": [
            "AxesSubplot(0.125,0.125;0.62x0.755)\n"
          ],
          "name": "stdout"
        },
        {
          "output_type": "display_data",
          "data": {
            "image/png": "[encoded data removed]",
            "text/plain": [
              "<Figure size 720x720 with 2 Axes>"
            ]
          },
          "metadata": {
            "tags": [],
            "needs_background": "light"
          }
        }
      ]
    },
    {
      "cell_type": "code",
      "metadata": {
        "id": "6jDqddAMb_A7",
        "colab_type": "code",
        "colab": {}
      },
      "source": [
        "dataframe = dataframe.drop(columns = [\"LoanAmount\"])\n"
      ],
      "execution_count": 9,
      "outputs": []
    },
    {
      "cell_type": "code",
      "metadata": {
        "id": "S2E7FaIGcQG4",
        "colab_type": "code",
        "colab": {
          "base_uri": "https://localhost:8080/",
          "height": 215
        },
        "outputId": "bc61f5e9-099c-4a50-a16c-b9aa030fa3c8"
      },
      "source": [
        "dataframe.head()"
      ],
      "execution_count": 10,
      "outputs": [
        {
          "output_type": "execute_result",
          "data": {
            "text/html": [
              "<div>\n",
              "<style scoped>\n",
              "    .dataframe tbody tr th:only-of-type {\n",
              "        vertical-align: middle;\n",
              "    }\n",
              "\n",
              "    .dataframe tbody tr th {\n",
              "        vertical-align: top;\n",
              "    }\n",
              "\n",
              "    .dataframe thead th {\n",
              "        text-align: right;\n",
              "    }\n",
              "</style>\n",
              "<table border=\"1\" class=\"dataframe\">\n",
              "  <thead>\n",
              "    <tr style=\"text-align: right;\">\n",
              "      <th></th>\n",
              "      <th>Gender</th>\n",
              "      <th>Married</th>\n",
              "      <th>Dependents</th>\n",
              "      <th>Education</th>\n",
              "      <th>Self_Employed</th>\n",
              "      <th>ApplicantIncome</th>\n",
              "      <th>CoapplicantIncome</th>\n",
              "      <th>Loan_Amount_Term</th>\n",
              "      <th>Credit_History</th>\n",
              "      <th>Property_Area</th>\n",
              "      <th>Loan_Status</th>\n",
              "    </tr>\n",
              "  </thead>\n",
              "  <tbody>\n",
              "    <tr>\n",
              "      <th>0</th>\n",
              "      <td>1</td>\n",
              "      <td>0</td>\n",
              "      <td>0</td>\n",
              "      <td>0</td>\n",
              "      <td>0</td>\n",
              "      <td>5849</td>\n",
              "      <td>0.0</td>\n",
              "      <td>360.0</td>\n",
              "      <td>1.0</td>\n",
              "      <td>2</td>\n",
              "      <td>1</td>\n",
              "    </tr>\n",
              "    <tr>\n",
              "      <th>1</th>\n",
              "      <td>1</td>\n",
              "      <td>1</td>\n",
              "      <td>1</td>\n",
              "      <td>0</td>\n",
              "      <td>0</td>\n",
              "      <td>4583</td>\n",
              "      <td>1508.0</td>\n",
              "      <td>360.0</td>\n",
              "      <td>1.0</td>\n",
              "      <td>0</td>\n",
              "      <td>0</td>\n",
              "    </tr>\n",
              "    <tr>\n",
              "      <th>2</th>\n",
              "      <td>1</td>\n",
              "      <td>1</td>\n",
              "      <td>0</td>\n",
              "      <td>0</td>\n",
              "      <td>1</td>\n",
              "      <td>3000</td>\n",
              "      <td>0.0</td>\n",
              "      <td>360.0</td>\n",
              "      <td>1.0</td>\n",
              "      <td>2</td>\n",
              "      <td>1</td>\n",
              "    </tr>\n",
              "    <tr>\n",
              "      <th>3</th>\n",
              "      <td>1</td>\n",
              "      <td>1</td>\n",
              "      <td>0</td>\n",
              "      <td>1</td>\n",
              "      <td>0</td>\n",
              "      <td>2583</td>\n",
              "      <td>2358.0</td>\n",
              "      <td>360.0</td>\n",
              "      <td>1.0</td>\n",
              "      <td>2</td>\n",
              "      <td>1</td>\n",
              "    </tr>\n",
              "    <tr>\n",
              "      <th>4</th>\n",
              "      <td>1</td>\n",
              "      <td>0</td>\n",
              "      <td>0</td>\n",
              "      <td>0</td>\n",
              "      <td>0</td>\n",
              "      <td>6000</td>\n",
              "      <td>0.0</td>\n",
              "      <td>360.0</td>\n",
              "      <td>1.0</td>\n",
              "      <td>2</td>\n",
              "      <td>1</td>\n",
              "    </tr>\n",
              "  </tbody>\n",
              "</table>\n",
              "</div>"
            ],
            "text/plain": [
              "   Gender  Married  Dependents  ...  Credit_History  Property_Area  Loan_Status\n",
              "0       1        0           0  ...             1.0              2            1\n",
              "1       1        1           1  ...             1.0              0            0\n",
              "2       1        1           0  ...             1.0              2            1\n",
              "3       1        1           0  ...             1.0              2            1\n",
              "4       1        0           0  ...             1.0              2            1\n",
              "\n",
              "[5 rows x 11 columns]"
            ]
          },
          "metadata": {
            "tags": []
          },
          "execution_count": 10
        }
      ]
    },
    {
      "cell_type": "code",
      "metadata": {
        "id": "FPkWENZsR63W",
        "colab_type": "code",
        "colab": {
          "base_uri": "https://localhost:8080/",
          "height": 218
        },
        "outputId": "c2568137-f81c-4552-d4c6-c02fd63360f9"
      },
      "source": [
        "dataframe.isnull().sum().sort_values(ascending = False)"
      ],
      "execution_count": 11,
      "outputs": [
        {
          "output_type": "execute_result",
          "data": {
            "text/plain": [
              "Credit_History       50\n",
              "Loan_Amount_Term     14\n",
              "Loan_Status           0\n",
              "Property_Area         0\n",
              "CoapplicantIncome     0\n",
              "ApplicantIncome       0\n",
              "Self_Employed         0\n",
              "Education             0\n",
              "Dependents            0\n",
              "Married               0\n",
              "Gender                0\n",
              "dtype: int64"
            ]
          },
          "metadata": {
            "tags": []
          },
          "execution_count": 11
        }
      ]
    },
    {
      "cell_type": "code",
      "metadata": {
        "id": "77TsoMT9NVtG",
        "colab_type": "code",
        "colab": {}
      },
      "source": [
        "X = dataframe.iloc[:, :-1].values\n",
        "y = dataframe.iloc[:, -1].values"
      ],
      "execution_count": 12,
      "outputs": []
    },
    {
      "cell_type": "code",
      "metadata": {
        "id": "LNnNtsUuTYhI",
        "colab_type": "code",
        "colab": {
          "base_uri": "https://localhost:8080/",
          "height": 487
        },
        "outputId": "fbce15e0-ff0b-4f66-cb35-1b10dd5666a9"
      },
      "source": [
        "y"
      ],
      "execution_count": 13,
      "outputs": [
        {
          "output_type": "execute_result",
          "data": {
            "text/plain": [
              "array([1, 0, 1, 1, 1, 1, 1, 0, 1, 0, 1, 1, 1, 0, 1, 1, 1, 0, 0, 1, 0, 1,\n",
              "       0, 0, 0, 1, 1, 1, 0, 1, 0, 0, 0, 1, 0, 1, 0, 1, 1, 1, 0, 1, 1, 1,\n",
              "       1, 1, 1, 1, 0, 1, 1, 1, 0, 0, 0, 1, 1, 0, 1, 1, 1, 1, 0, 0, 0, 0,\n",
              "       0, 1, 1, 0, 1, 1, 1, 0, 1, 0, 0, 0, 0, 1, 1, 1, 0, 0, 1, 1, 1, 1,\n",
              "       1, 1, 1, 1, 1, 1, 1, 0, 1, 1, 1, 1, 1, 1, 1, 1, 1, 1, 1, 0, 0, 1,\n",
              "       1, 1, 0, 1, 1, 1, 1, 1, 0, 1, 1, 1, 1, 1, 1, 1, 1, 1, 0, 0, 1, 1,\n",
              "       1, 1, 1, 0, 0, 1, 0, 0, 0, 1, 1, 1, 1, 1, 1, 1, 0, 1, 0, 1, 0, 0,\n",
              "       1, 1, 1, 1, 1, 1, 1, 0, 0, 1, 1, 1, 0, 1, 0, 1, 1, 1, 0, 1, 0, 1,\n",
              "       1, 0, 1, 0, 0, 0, 1, 0, 1, 1, 0, 1, 1, 1, 1, 0, 0, 1, 1, 0, 1, 1,\n",
              "       1, 0, 1, 1, 0, 1, 1, 1, 1, 1, 1, 0, 0, 0, 1, 1, 1, 1, 0, 1, 0, 1,\n",
              "       0, 1, 1, 1, 1, 0, 0, 1, 1, 1, 1, 1, 1, 1, 1, 1, 0, 1, 1, 1, 1, 0,\n",
              "       1, 1, 1, 0, 1, 1, 1, 1, 0, 0, 1, 1, 0, 1, 0, 0, 0, 0, 1, 1, 0, 1,\n",
              "       1, 1, 1, 1, 0, 1, 1, 1, 1, 1, 1, 1, 1, 1, 1, 1, 0, 1, 1, 1, 0, 1,\n",
              "       0, 1, 1, 1, 1, 0, 1, 0, 1, 1, 1, 1, 0, 0, 0, 1, 1, 1, 1, 0, 1, 0,\n",
              "       0, 1, 1, 1, 1, 1, 0, 1, 1, 1, 1, 0, 1, 1, 1, 1, 1, 0, 1, 1, 0, 1,\n",
              "       1, 1, 1, 1, 1, 1, 1, 1, 0, 1, 0, 0, 1, 1, 1, 1, 0, 1, 1, 1, 1, 0,\n",
              "       1, 0, 1, 1, 1, 0, 0, 1, 0, 1, 1, 1, 1, 0, 0, 0, 1, 0, 1, 1, 1, 0,\n",
              "       1, 1, 1, 1, 0, 1, 1, 1, 1, 1, 0, 1, 1, 0, 1, 1, 1, 1, 1, 1, 1, 1,\n",
              "       0, 1, 1, 0, 0, 0, 1, 1, 0, 1, 1, 1, 0, 0, 0, 1, 0, 1, 0, 1, 0, 0,\n",
              "       1, 1, 1, 0, 1, 0, 1, 1, 0, 1, 1, 1, 1, 0, 1, 1, 1, 1, 1, 1, 0, 1,\n",
              "       1, 1, 1, 1, 1, 1, 1, 0, 0, 0, 0, 1, 0, 1, 1, 1, 1, 0, 1, 0, 1, 1,\n",
              "       1, 1, 0, 1, 0, 1, 1, 0, 1, 0, 1, 1, 1, 1, 1, 0, 1, 0, 1, 1, 1, 1,\n",
              "       1, 1, 0, 0, 1, 0, 1, 1, 1, 1, 0, 1, 1, 1, 1, 0, 1, 1, 1, 0, 1, 1,\n",
              "       1, 0, 1, 1, 0, 1, 1, 0, 0, 1, 1, 0, 0, 0, 1, 1, 1, 1, 0, 1, 1, 1,\n",
              "       1, 1, 1, 1, 0, 0, 1, 1, 1, 1, 0, 1, 1, 0, 1, 1, 1, 1, 0, 1, 0, 1,\n",
              "       0, 1, 1, 0, 0, 1, 1, 1, 1, 1, 1, 1, 1, 1, 0, 1, 1, 0, 0, 0, 1, 0,\n",
              "       1, 0, 0, 1, 0, 1, 1, 1, 1, 0, 1, 0, 0, 0, 1, 1, 1, 0, 1, 0, 1, 1,\n",
              "       1, 1, 0, 0, 1, 1, 0, 1, 1, 1, 1, 0, 1, 1, 1, 1, 1, 1, 1, 0])"
            ]
          },
          "metadata": {
            "tags": []
          },
          "execution_count": 13
        }
      ]
    },
    {
      "cell_type": "code",
      "metadata": {
        "id": "x8ZhNWvmsYmy",
        "colab_type": "code",
        "colab": {}
      },
      "source": [
        "from sklearn.impute import SimpleImputer\n",
        "imputer = SimpleImputer(missing_values = np.nan, strategy = 'most_frequent')\n",
        "imputer.fit(X)\n",
        "X = imputer.transform(X)"
      ],
      "execution_count": 14,
      "outputs": []
    },
    {
      "cell_type": "code",
      "metadata": {
        "id": "h3ZE8KFZvypM",
        "colab_type": "code",
        "colab": {}
      },
      "source": [
        "from sklearn.model_selection import train_test_split\n",
        "X_train, X_test, y_train, y_test = train_test_split(X, y, test_size = 0.25, random_state = 0)"
      ],
      "execution_count": 15,
      "outputs": []
    },
    {
      "cell_type": "code",
      "metadata": {
        "id": "B4rfKaWiSnaQ",
        "colab_type": "code",
        "colab": {
          "base_uri": "https://localhost:8080/",
          "height": 50
        },
        "outputId": "1c37012d-6002-4ff8-8bb1-b3892b228523"
      },
      "source": [
        "X_train[0]"
      ],
      "execution_count": 16,
      "outputs": [
        {
          "output_type": "execute_result",
          "data": {
            "text/plain": [
              "array([1.000e+00, 1.000e+00, 1.000e+00, 0.000e+00, 0.000e+00, 5.649e+03,\n",
              "       0.000e+00, 3.600e+02, 1.000e+00, 2.000e+00])"
            ]
          },
          "metadata": {
            "tags": []
          },
          "execution_count": 16
        }
      ]
    },
    {
      "cell_type": "code",
      "metadata": {
        "id": "eW8miVvRyccz",
        "colab_type": "code",
        "colab": {}
      },
      "source": [
        "from sklearn.preprocessing import StandardScaler\n",
        "sc = StandardScaler()\n",
        "X_train[:,5:8] = sc.fit_transform(X_train[:,5:8])\n",
        "X_test[:,5:8] = sc.transform(X_test[:,5:8])"
      ],
      "execution_count": 17,
      "outputs": []
    },
    {
      "cell_type": "code",
      "metadata": {
        "id": "qvQlzOXT9ebe",
        "colab_type": "code",
        "colab": {
          "base_uri": "https://localhost:8080/",
          "height": 134
        },
        "outputId": "90d12a52-2ed5-41fd-d3fe-0ad5dae8e84a"
      },
      "source": [
        "print(X_train)"
      ],
      "execution_count": 18,
      "outputs": [
        {
          "output_type": "stream",
          "text": [
            "[[1.         1.         1.         ... 0.27778225 1.         2.        ]\n",
            " [1.         0.         0.         ... 0.27778225 1.         0.        ]\n",
            " [1.         0.         2.         ... 0.27778225 1.         0.        ]\n",
            " ...\n",
            " [1.         1.         3.         ... 0.27778225 1.         1.        ]\n",
            " [1.         1.         0.         ... 0.27778225 1.         2.        ]\n",
            " [0.         1.         0.         ... 0.27778225 1.         1.        ]]\n"
          ],
          "name": "stdout"
        }
      ]
    },
    {
      "cell_type": "code",
      "metadata": {
        "id": "NY4AuzJc9auI",
        "colab_type": "code",
        "colab": {
          "base_uri": "https://localhost:8080/",
          "height": 134
        },
        "outputId": "f07806f4-90c8-4e7c-b787-186d1847daae"
      },
      "source": [
        "print(X_test)"
      ],
      "execution_count": 19,
      "outputs": [
        {
          "output_type": "stream",
          "text": [
            "[[1.         0.         0.         ... 0.27778225 1.         1.        ]\n",
            " [0.         0.         0.         ... 0.27778225 1.         1.        ]\n",
            " [1.         1.         0.         ... 0.27778225 1.         2.        ]\n",
            " ...\n",
            " [1.         1.         0.         ... 0.27778225 1.         2.        ]\n",
            " [1.         0.         0.         ... 0.27778225 1.         1.        ]\n",
            " [1.         1.         1.         ... 0.27778225 0.         1.        ]]\n"
          ],
          "name": "stdout"
        }
      ]
    },
    {
      "cell_type": "code",
      "metadata": {
        "id": "WeKa28sYyiDs",
        "colab_type": "code",
        "colab": {}
      },
      "source": [
        "# def logistic_regression(X_train,X_test,y_train,y_test):\n",
        "#   from sklearn.linear_model import LogisticRegression\n",
        "#   from sklearn.metrics import accuracy_score,classification_report\n",
        "#   LR = LogisticRegression(random_state = 0)\n",
        "#   LR.fit(X_train,y_train)\n",
        "#   print(\"Logistic Regression\\n\",classification_report(y_test, LR.predict(X_test)),\"\\n\")\n",
        "#   print(accuracy_score(y_test, LR.predict(X_test)))\n",
        "#   from sklearn.model_selection import cross_val_score\n",
        "#   accuracies = cross_val_score(estimator = LR,X = X_train,y = y_train, cv = 15)\n",
        "#   print(\"Accuracy: {:.2f}\".format(accuracies.mean() * 100))"
      ],
      "execution_count": 20,
      "outputs": []
    },
    {
      "cell_type": "code",
      "metadata": {
        "id": "ojqD2U120Mbf",
        "colab_type": "code",
        "colab": {}
      },
      "source": [
        "# logistic_regression(X_train,X_test,y_train,y_test)"
      ],
      "execution_count": 21,
      "outputs": []
    },
    {
      "cell_type": "code",
      "metadata": {
        "id": "x1KvP8eeTeUH",
        "colab_type": "code",
        "colab": {}
      },
      "source": [
        "ann = tf.keras.models.Sequential()"
      ],
      "execution_count": 22,
      "outputs": []
    },
    {
      "cell_type": "code",
      "metadata": {
        "id": "Yrulej4TGK_T",
        "colab_type": "code",
        "colab": {}
      },
      "source": [
        "ann.add(tf.keras.layers.Dense(units =4, activation = 'relu'))"
      ],
      "execution_count": 23,
      "outputs": []
    },
    {
      "cell_type": "code",
      "metadata": {
        "id": "lrACZLojVtC9",
        "colab_type": "code",
        "colab": {}
      },
      "source": [
        "\n",
        "ann.add(tf.keras.layers.Dense(units = 4, activation='relu'))"
      ],
      "execution_count": 24,
      "outputs": []
    },
    {
      "cell_type": "code",
      "metadata": {
        "id": "ge8d8Ocm50OL",
        "colab_type": "code",
        "colab": {}
      },
      "source": [
        "\n",
        "ann.add(tf.keras.layers.Dense(units = 1, activation='sigmoid'))"
      ],
      "execution_count": 25,
      "outputs": []
    },
    {
      "cell_type": "code",
      "metadata": {
        "id": "2hb0uocr6n-O",
        "colab_type": "code",
        "colab": {}
      },
      "source": [
        "ann.compile(optimizer='adam', loss = 'binary_crossentropy', metrics=['accuracy'])"
      ],
      "execution_count": 26,
      "outputs": []
    },
    {
      "cell_type": "code",
      "metadata": {
        "id": "CWvK19g662Ll",
        "colab_type": "code",
        "colab": {
          "base_uri": "https://localhost:8080/",
          "height": 1000
        },
        "outputId": "35edeb2f-3297-4557-a2fa-ee2c35c26893"
      },
      "source": [
        "ann.fit(X_train, y_train,batch_size = 32, epochs=300)"
      ],
      "execution_count": 27,
      "outputs": [
        {
          "output_type": "stream",
          "text": [
            "Epoch 1/300\n",
            "15/15 [==============================] - 0s 2ms/step - loss: 0.7048 - accuracy: 0.5283\n",
            "Epoch 2/300\n",
            "15/15 [==============================] - 0s 1ms/step - loss: 0.6901 - accuracy: 0.5826\n",
            "Epoch 3/300\n",
            "15/15 [==============================] - 0s 1ms/step - loss: 0.6789 - accuracy: 0.6239\n",
            "Epoch 4/300\n",
            "15/15 [==============================] - 0s 1ms/step - loss: 0.6703 - accuracy: 0.6543\n",
            "Epoch 5/300\n",
            "15/15 [==============================] - 0s 2ms/step - loss: 0.6628 - accuracy: 0.6652\n",
            "Epoch 6/300\n",
            "15/15 [==============================] - 0s 1ms/step - loss: 0.6573 - accuracy: 0.6696\n",
            "Epoch 7/300\n",
            "15/15 [==============================] - 0s 2ms/step - loss: 0.6515 - accuracy: 0.6717\n",
            "Epoch 8/300\n",
            "15/15 [==============================] - 0s 1ms/step - loss: 0.6470 - accuracy: 0.6717\n",
            "Epoch 9/300\n",
            "15/15 [==============================] - 0s 2ms/step - loss: 0.6425 - accuracy: 0.6739\n",
            "Epoch 10/300\n",
            "15/15 [==============================] - 0s 2ms/step - loss: 0.6387 - accuracy: 0.6783\n",
            "Epoch 11/300\n",
            "15/15 [==============================] - 0s 2ms/step - loss: 0.6354 - accuracy: 0.6783\n",
            "Epoch 12/300\n",
            "15/15 [==============================] - 0s 1ms/step - loss: 0.6323 - accuracy: 0.6783\n",
            "Epoch 13/300\n",
            "15/15 [==============================] - 0s 2ms/step - loss: 0.6296 - accuracy: 0.6783\n",
            "Epoch 14/300\n",
            "15/15 [==============================] - 0s 1ms/step - loss: 0.6274 - accuracy: 0.6804\n",
            "Epoch 15/300\n",
            "15/15 [==============================] - 0s 1ms/step - loss: 0.6251 - accuracy: 0.6804\n",
            "Epoch 16/300\n",
            "15/15 [==============================] - 0s 2ms/step - loss: 0.6236 - accuracy: 0.6804\n",
            "Epoch 17/300\n",
            "15/15 [==============================] - 0s 2ms/step - loss: 0.6216 - accuracy: 0.6804\n",
            "Epoch 18/300\n",
            "15/15 [==============================] - 0s 2ms/step - loss: 0.6201 - accuracy: 0.6804\n",
            "Epoch 19/300\n",
            "15/15 [==============================] - 0s 1ms/step - loss: 0.6187 - accuracy: 0.6804\n",
            "Epoch 20/300\n",
            "15/15 [==============================] - 0s 1ms/step - loss: 0.6175 - accuracy: 0.6804\n",
            "Epoch 21/300\n",
            "15/15 [==============================] - 0s 2ms/step - loss: 0.6161 - accuracy: 0.6804\n",
            "Epoch 22/300\n",
            "15/15 [==============================] - 0s 1ms/step - loss: 0.6151 - accuracy: 0.6783\n",
            "Epoch 23/300\n",
            "15/15 [==============================] - 0s 1ms/step - loss: 0.6137 - accuracy: 0.6783\n",
            "Epoch 24/300\n",
            "15/15 [==============================] - 0s 1ms/step - loss: 0.6126 - accuracy: 0.6783\n",
            "Epoch 25/300\n",
            "15/15 [==============================] - 0s 2ms/step - loss: 0.6112 - accuracy: 0.6783\n",
            "Epoch 26/300\n",
            "15/15 [==============================] - 0s 2ms/step - loss: 0.6098 - accuracy: 0.6783\n",
            "Epoch 27/300\n",
            "15/15 [==============================] - 0s 1ms/step - loss: 0.6086 - accuracy: 0.6783\n",
            "Epoch 28/300\n",
            "15/15 [==============================] - 0s 1ms/step - loss: 0.6075 - accuracy: 0.6783\n",
            "Epoch 29/300\n",
            "15/15 [==============================] - 0s 1ms/step - loss: 0.6063 - accuracy: 0.6783\n",
            "Epoch 30/300\n",
            "15/15 [==============================] - 0s 1ms/step - loss: 0.6053 - accuracy: 0.6804\n",
            "Epoch 31/300\n",
            "15/15 [==============================] - 0s 2ms/step - loss: 0.6042 - accuracy: 0.6804\n",
            "Epoch 32/300\n",
            "15/15 [==============================] - 0s 2ms/step - loss: 0.6029 - accuracy: 0.6804\n",
            "Epoch 33/300\n",
            "15/15 [==============================] - 0s 2ms/step - loss: 0.6016 - accuracy: 0.6804\n",
            "Epoch 34/300\n",
            "15/15 [==============================] - 0s 2ms/step - loss: 0.6009 - accuracy: 0.6826\n",
            "Epoch 35/300\n",
            "15/15 [==============================] - 0s 2ms/step - loss: 0.5991 - accuracy: 0.6848\n",
            "Epoch 36/300\n",
            "15/15 [==============================] - 0s 2ms/step - loss: 0.5975 - accuracy: 0.6913\n",
            "Epoch 37/300\n",
            "15/15 [==============================] - 0s 1ms/step - loss: 0.5961 - accuracy: 0.6935\n",
            "Epoch 38/300\n",
            "15/15 [==============================] - 0s 1ms/step - loss: 0.5946 - accuracy: 0.6978\n",
            "Epoch 39/300\n",
            "15/15 [==============================] - 0s 2ms/step - loss: 0.5931 - accuracy: 0.7000\n",
            "Epoch 40/300\n",
            "15/15 [==============================] - 0s 2ms/step - loss: 0.5916 - accuracy: 0.7022\n",
            "Epoch 41/300\n",
            "15/15 [==============================] - 0s 1ms/step - loss: 0.5899 - accuracy: 0.7065\n",
            "Epoch 42/300\n",
            "15/15 [==============================] - 0s 1ms/step - loss: 0.5879 - accuracy: 0.7065\n",
            "Epoch 43/300\n",
            "15/15 [==============================] - 0s 2ms/step - loss: 0.5861 - accuracy: 0.7109\n",
            "Epoch 44/300\n",
            "15/15 [==============================] - 0s 3ms/step - loss: 0.5840 - accuracy: 0.7130\n",
            "Epoch 45/300\n",
            "15/15 [==============================] - 0s 1ms/step - loss: 0.5821 - accuracy: 0.7087\n",
            "Epoch 46/300\n",
            "15/15 [==============================] - 0s 1ms/step - loss: 0.5800 - accuracy: 0.7065\n",
            "Epoch 47/300\n",
            "15/15 [==============================] - 0s 1ms/step - loss: 0.5780 - accuracy: 0.7109\n",
            "Epoch 48/300\n",
            "15/15 [==============================] - 0s 1ms/step - loss: 0.5753 - accuracy: 0.7065\n",
            "Epoch 49/300\n",
            "15/15 [==============================] - 0s 1ms/step - loss: 0.5726 - accuracy: 0.7043\n",
            "Epoch 50/300\n",
            "15/15 [==============================] - 0s 1ms/step - loss: 0.5704 - accuracy: 0.7065\n",
            "Epoch 51/300\n",
            "15/15 [==============================] - 0s 2ms/step - loss: 0.5678 - accuracy: 0.7065\n",
            "Epoch 52/300\n",
            "15/15 [==============================] - 0s 1ms/step - loss: 0.5652 - accuracy: 0.7109\n",
            "Epoch 53/300\n",
            "15/15 [==============================] - 0s 1ms/step - loss: 0.5621 - accuracy: 0.7196\n",
            "Epoch 54/300\n",
            "15/15 [==============================] - 0s 1ms/step - loss: 0.5594 - accuracy: 0.7261\n",
            "Epoch 55/300\n",
            "15/15 [==============================] - 0s 2ms/step - loss: 0.5564 - accuracy: 0.7283\n",
            "Epoch 56/300\n",
            "15/15 [==============================] - 0s 1ms/step - loss: 0.5534 - accuracy: 0.7326\n",
            "Epoch 57/300\n",
            "15/15 [==============================] - 0s 1ms/step - loss: 0.5506 - accuracy: 0.7304\n",
            "Epoch 58/300\n",
            "15/15 [==============================] - 0s 2ms/step - loss: 0.5475 - accuracy: 0.7326\n",
            "Epoch 59/300\n",
            "15/15 [==============================] - 0s 2ms/step - loss: 0.5443 - accuracy: 0.7370\n",
            "Epoch 60/300\n",
            "15/15 [==============================] - 0s 1ms/step - loss: 0.5419 - accuracy: 0.7457\n",
            "Epoch 61/300\n",
            "15/15 [==============================] - 0s 1ms/step - loss: 0.5396 - accuracy: 0.7500\n",
            "Epoch 62/300\n",
            "15/15 [==============================] - 0s 1ms/step - loss: 0.5364 - accuracy: 0.7587\n",
            "Epoch 63/300\n",
            "15/15 [==============================] - 0s 1ms/step - loss: 0.5337 - accuracy: 0.7609\n",
            "Epoch 64/300\n",
            "15/15 [==============================] - 0s 2ms/step - loss: 0.5306 - accuracy: 0.7630\n",
            "Epoch 65/300\n",
            "15/15 [==============================] - 0s 2ms/step - loss: 0.5285 - accuracy: 0.7674\n",
            "Epoch 66/300\n",
            "15/15 [==============================] - 0s 2ms/step - loss: 0.5255 - accuracy: 0.7783\n",
            "Epoch 67/300\n",
            "15/15 [==============================] - 0s 1ms/step - loss: 0.5224 - accuracy: 0.7848\n",
            "Epoch 68/300\n",
            "15/15 [==============================] - 0s 1ms/step - loss: 0.5195 - accuracy: 0.7848\n",
            "Epoch 69/300\n",
            "15/15 [==============================] - 0s 2ms/step - loss: 0.5169 - accuracy: 0.7913\n",
            "Epoch 70/300\n",
            "15/15 [==============================] - 0s 1ms/step - loss: 0.5142 - accuracy: 0.7978\n",
            "Epoch 71/300\n",
            "15/15 [==============================] - 0s 1ms/step - loss: 0.5108 - accuracy: 0.8022\n",
            "Epoch 72/300\n",
            "15/15 [==============================] - 0s 1ms/step - loss: 0.5083 - accuracy: 0.8043\n",
            "Epoch 73/300\n",
            "15/15 [==============================] - 0s 1ms/step - loss: 0.5061 - accuracy: 0.8043\n",
            "Epoch 74/300\n",
            "15/15 [==============================] - 0s 1ms/step - loss: 0.5034 - accuracy: 0.8065\n",
            "Epoch 75/300\n",
            "15/15 [==============================] - 0s 1ms/step - loss: 0.5019 - accuracy: 0.8065\n",
            "Epoch 76/300\n",
            "15/15 [==============================] - 0s 2ms/step - loss: 0.5000 - accuracy: 0.8087\n",
            "Epoch 77/300\n",
            "15/15 [==============================] - 0s 1ms/step - loss: 0.4981 - accuracy: 0.8130\n",
            "Epoch 78/300\n",
            "15/15 [==============================] - 0s 1ms/step - loss: 0.4958 - accuracy: 0.8130\n",
            "Epoch 79/300\n",
            "15/15 [==============================] - 0s 1ms/step - loss: 0.4939 - accuracy: 0.8087\n",
            "Epoch 80/300\n",
            "15/15 [==============================] - 0s 2ms/step - loss: 0.4924 - accuracy: 0.8087\n",
            "Epoch 81/300\n",
            "15/15 [==============================] - 0s 1ms/step - loss: 0.4909 - accuracy: 0.8087\n",
            "Epoch 82/300\n",
            "15/15 [==============================] - 0s 1ms/step - loss: 0.4899 - accuracy: 0.8109\n",
            "Epoch 83/300\n",
            "15/15 [==============================] - 0s 1ms/step - loss: 0.4888 - accuracy: 0.8087\n",
            "Epoch 84/300\n",
            "15/15 [==============================] - 0s 1ms/step - loss: 0.4867 - accuracy: 0.8087\n",
            "Epoch 85/300\n",
            "15/15 [==============================] - 0s 1ms/step - loss: 0.4857 - accuracy: 0.8065\n",
            "Epoch 86/300\n",
            "15/15 [==============================] - 0s 2ms/step - loss: 0.4859 - accuracy: 0.8087\n",
            "Epoch 87/300\n",
            "15/15 [==============================] - 0s 1ms/step - loss: 0.4838 - accuracy: 0.8065\n",
            "Epoch 88/300\n",
            "15/15 [==============================] - 0s 1ms/step - loss: 0.4821 - accuracy: 0.8087\n",
            "Epoch 89/300\n",
            "15/15 [==============================] - 0s 1ms/step - loss: 0.4819 - accuracy: 0.8087\n",
            "Epoch 90/300\n",
            "15/15 [==============================] - 0s 2ms/step - loss: 0.4805 - accuracy: 0.8065\n",
            "Epoch 91/300\n",
            "15/15 [==============================] - 0s 1ms/step - loss: 0.4794 - accuracy: 0.8065\n",
            "Epoch 92/300\n",
            "15/15 [==============================] - 0s 1ms/step - loss: 0.4784 - accuracy: 0.8087\n",
            "Epoch 93/300\n",
            "15/15 [==============================] - 0s 2ms/step - loss: 0.4778 - accuracy: 0.8065\n",
            "Epoch 94/300\n",
            "15/15 [==============================] - 0s 1ms/step - loss: 0.4781 - accuracy: 0.8087\n",
            "Epoch 95/300\n",
            "15/15 [==============================] - 0s 1ms/step - loss: 0.4764 - accuracy: 0.8065\n",
            "Epoch 96/300\n",
            "15/15 [==============================] - 0s 1ms/step - loss: 0.4756 - accuracy: 0.8065\n",
            "Epoch 97/300\n",
            "15/15 [==============================] - 0s 1ms/step - loss: 0.4750 - accuracy: 0.8065\n",
            "Epoch 98/300\n",
            "15/15 [==============================] - 0s 2ms/step - loss: 0.4744 - accuracy: 0.8065\n",
            "Epoch 99/300\n",
            "15/15 [==============================] - 0s 2ms/step - loss: 0.4742 - accuracy: 0.8065\n",
            "Epoch 100/300\n",
            "15/15 [==============================] - 0s 2ms/step - loss: 0.4735 - accuracy: 0.8065\n",
            "Epoch 101/300\n",
            "15/15 [==============================] - 0s 2ms/step - loss: 0.4724 - accuracy: 0.8065\n",
            "Epoch 102/300\n",
            "15/15 [==============================] - 0s 1ms/step - loss: 0.4720 - accuracy: 0.8065\n",
            "Epoch 103/300\n",
            "15/15 [==============================] - 0s 1ms/step - loss: 0.4716 - accuracy: 0.8065\n",
            "Epoch 104/300\n",
            "15/15 [==============================] - 0s 2ms/step - loss: 0.4711 - accuracy: 0.8065\n",
            "Epoch 105/300\n",
            "15/15 [==============================] - 0s 2ms/step - loss: 0.4707 - accuracy: 0.8065\n",
            "Epoch 106/300\n",
            "15/15 [==============================] - 0s 1ms/step - loss: 0.4704 - accuracy: 0.8065\n",
            "Epoch 107/300\n",
            "15/15 [==============================] - 0s 2ms/step - loss: 0.4699 - accuracy: 0.8065\n",
            "Epoch 108/300\n",
            "15/15 [==============================] - 0s 2ms/step - loss: 0.4695 - accuracy: 0.8087\n",
            "Epoch 109/300\n",
            "15/15 [==============================] - 0s 1ms/step - loss: 0.4695 - accuracy: 0.8087\n",
            "Epoch 110/300\n",
            "15/15 [==============================] - 0s 2ms/step - loss: 0.4689 - accuracy: 0.8087\n",
            "Epoch 111/300\n",
            "15/15 [==============================] - 0s 1ms/step - loss: 0.4684 - accuracy: 0.8087\n",
            "Epoch 112/300\n",
            "15/15 [==============================] - 0s 2ms/step - loss: 0.4685 - accuracy: 0.8087\n",
            "Epoch 113/300\n",
            "15/15 [==============================] - 0s 1ms/step - loss: 0.4681 - accuracy: 0.8109\n",
            "Epoch 114/300\n",
            "15/15 [==============================] - 0s 1ms/step - loss: 0.4678 - accuracy: 0.8087\n",
            "Epoch 115/300\n",
            "15/15 [==============================] - 0s 1ms/step - loss: 0.4678 - accuracy: 0.8087\n",
            "Epoch 116/300\n",
            "15/15 [==============================] - 0s 2ms/step - loss: 0.4674 - accuracy: 0.8087\n",
            "Epoch 117/300\n",
            "15/15 [==============================] - 0s 1ms/step - loss: 0.4669 - accuracy: 0.8065\n",
            "Epoch 118/300\n",
            "15/15 [==============================] - 0s 1ms/step - loss: 0.4671 - accuracy: 0.8109\n",
            "Epoch 119/300\n",
            "15/15 [==============================] - 0s 1ms/step - loss: 0.4668 - accuracy: 0.8043\n",
            "Epoch 120/300\n",
            "15/15 [==============================] - 0s 1ms/step - loss: 0.4663 - accuracy: 0.8065\n",
            "Epoch 121/300\n",
            "15/15 [==============================] - 0s 2ms/step - loss: 0.4668 - accuracy: 0.8065\n",
            "Epoch 122/300\n",
            "15/15 [==============================] - 0s 1ms/step - loss: 0.4659 - accuracy: 0.8087\n",
            "Epoch 123/300\n",
            "15/15 [==============================] - 0s 2ms/step - loss: 0.4660 - accuracy: 0.8043\n",
            "Epoch 124/300\n",
            "15/15 [==============================] - 0s 1ms/step - loss: 0.4654 - accuracy: 0.8065\n",
            "Epoch 125/300\n",
            "15/15 [==============================] - 0s 1ms/step - loss: 0.4651 - accuracy: 0.8065\n",
            "Epoch 126/300\n",
            "15/15 [==============================] - 0s 1ms/step - loss: 0.4649 - accuracy: 0.8087\n",
            "Epoch 127/300\n",
            "15/15 [==============================] - 0s 2ms/step - loss: 0.4649 - accuracy: 0.8087\n",
            "Epoch 128/300\n",
            "15/15 [==============================] - 0s 1ms/step - loss: 0.4647 - accuracy: 0.8087\n",
            "Epoch 129/300\n",
            "15/15 [==============================] - 0s 1ms/step - loss: 0.4642 - accuracy: 0.8087\n",
            "Epoch 130/300\n",
            "15/15 [==============================] - 0s 1ms/step - loss: 0.4645 - accuracy: 0.8065\n",
            "Epoch 131/300\n",
            "15/15 [==============================] - 0s 1ms/step - loss: 0.4642 - accuracy: 0.8043\n",
            "Epoch 132/300\n",
            "15/15 [==============================] - 0s 1ms/step - loss: 0.4641 - accuracy: 0.8065\n",
            "Epoch 133/300\n",
            "15/15 [==============================] - 0s 1ms/step - loss: 0.4638 - accuracy: 0.8065\n",
            "Epoch 134/300\n",
            "15/15 [==============================] - 0s 1ms/step - loss: 0.4633 - accuracy: 0.8043\n",
            "Epoch 135/300\n",
            "15/15 [==============================] - 0s 1ms/step - loss: 0.4632 - accuracy: 0.8043\n",
            "Epoch 136/300\n",
            "15/15 [==============================] - 0s 1ms/step - loss: 0.4630 - accuracy: 0.8065\n",
            "Epoch 137/300\n",
            "15/15 [==============================] - 0s 1ms/step - loss: 0.4628 - accuracy: 0.8043\n",
            "Epoch 138/300\n",
            "15/15 [==============================] - 0s 1ms/step - loss: 0.4632 - accuracy: 0.8065\n",
            "Epoch 139/300\n",
            "15/15 [==============================] - 0s 1ms/step - loss: 0.4625 - accuracy: 0.8043\n",
            "Epoch 140/300\n",
            "15/15 [==============================] - 0s 1ms/step - loss: 0.4624 - accuracy: 0.8065\n",
            "Epoch 141/300\n",
            "15/15 [==============================] - 0s 1ms/step - loss: 0.4627 - accuracy: 0.8043\n",
            "Epoch 142/300\n",
            "15/15 [==============================] - 0s 1ms/step - loss: 0.4625 - accuracy: 0.8065\n",
            "Epoch 143/300\n",
            "15/15 [==============================] - 0s 2ms/step - loss: 0.4620 - accuracy: 0.8065\n",
            "Epoch 144/300\n",
            "15/15 [==============================] - 0s 2ms/step - loss: 0.4618 - accuracy: 0.8043\n",
            "Epoch 145/300\n",
            "15/15 [==============================] - 0s 1ms/step - loss: 0.4622 - accuracy: 0.8087\n",
            "Epoch 146/300\n",
            "15/15 [==============================] - 0s 1ms/step - loss: 0.4622 - accuracy: 0.8043\n",
            "Epoch 147/300\n",
            "15/15 [==============================] - 0s 1ms/step - loss: 0.4627 - accuracy: 0.8043\n",
            "Epoch 148/300\n",
            "15/15 [==============================] - 0s 1ms/step - loss: 0.4607 - accuracy: 0.8087\n",
            "Epoch 149/300\n",
            "15/15 [==============================] - 0s 1ms/step - loss: 0.4618 - accuracy: 0.8065\n",
            "Epoch 150/300\n",
            "15/15 [==============================] - 0s 1ms/step - loss: 0.4609 - accuracy: 0.8065\n",
            "Epoch 151/300\n",
            "15/15 [==============================] - 0s 1ms/step - loss: 0.4616 - accuracy: 0.8087\n",
            "Epoch 152/300\n",
            "15/15 [==============================] - 0s 1ms/step - loss: 0.4617 - accuracy: 0.8043\n",
            "Epoch 153/300\n",
            "15/15 [==============================] - 0s 1ms/step - loss: 0.4603 - accuracy: 0.8065\n",
            "Epoch 154/300\n",
            "15/15 [==============================] - 0s 1ms/step - loss: 0.4605 - accuracy: 0.8087\n",
            "Epoch 155/300\n",
            "15/15 [==============================] - 0s 1ms/step - loss: 0.4603 - accuracy: 0.8087\n",
            "Epoch 156/300\n",
            "15/15 [==============================] - 0s 2ms/step - loss: 0.4607 - accuracy: 0.8087\n",
            "Epoch 157/300\n",
            "15/15 [==============================] - 0s 2ms/step - loss: 0.4598 - accuracy: 0.8087\n",
            "Epoch 158/300\n",
            "15/15 [==============================] - 0s 1ms/step - loss: 0.4601 - accuracy: 0.8065\n",
            "Epoch 159/300\n",
            "15/15 [==============================] - 0s 2ms/step - loss: 0.4599 - accuracy: 0.8065\n",
            "Epoch 160/300\n",
            "15/15 [==============================] - 0s 1ms/step - loss: 0.4599 - accuracy: 0.8065\n",
            "Epoch 161/300\n",
            "15/15 [==============================] - 0s 1ms/step - loss: 0.4598 - accuracy: 0.8109\n",
            "Epoch 162/300\n",
            "15/15 [==============================] - 0s 2ms/step - loss: 0.4593 - accuracy: 0.8065\n",
            "Epoch 163/300\n",
            "15/15 [==============================] - 0s 2ms/step - loss: 0.4594 - accuracy: 0.8043\n",
            "Epoch 164/300\n",
            "15/15 [==============================] - 0s 1ms/step - loss: 0.4593 - accuracy: 0.8087\n",
            "Epoch 165/300\n",
            "15/15 [==============================] - 0s 1ms/step - loss: 0.4594 - accuracy: 0.8087\n",
            "Epoch 166/300\n",
            "15/15 [==============================] - 0s 2ms/step - loss: 0.4590 - accuracy: 0.8087\n",
            "Epoch 167/300\n",
            "15/15 [==============================] - 0s 2ms/step - loss: 0.4593 - accuracy: 0.8043\n",
            "Epoch 168/300\n",
            "15/15 [==============================] - 0s 2ms/step - loss: 0.4593 - accuracy: 0.8087\n",
            "Epoch 169/300\n",
            "15/15 [==============================] - 0s 1ms/step - loss: 0.4586 - accuracy: 0.8109\n",
            "Epoch 170/300\n",
            "15/15 [==============================] - 0s 2ms/step - loss: 0.4591 - accuracy: 0.8043\n",
            "Epoch 171/300\n",
            "15/15 [==============================] - 0s 1ms/step - loss: 0.4584 - accuracy: 0.8087\n",
            "Epoch 172/300\n",
            "15/15 [==============================] - 0s 1ms/step - loss: 0.4584 - accuracy: 0.8087\n",
            "Epoch 173/300\n",
            "15/15 [==============================] - 0s 2ms/step - loss: 0.4586 - accuracy: 0.8065\n",
            "Epoch 174/300\n",
            "15/15 [==============================] - 0s 1ms/step - loss: 0.4584 - accuracy: 0.8065\n",
            "Epoch 175/300\n",
            "15/15 [==============================] - 0s 1ms/step - loss: 0.4579 - accuracy: 0.8065\n",
            "Epoch 176/300\n",
            "15/15 [==============================] - 0s 1ms/step - loss: 0.4580 - accuracy: 0.8065\n",
            "Epoch 177/300\n",
            "15/15 [==============================] - 0s 1ms/step - loss: 0.4582 - accuracy: 0.8043\n",
            "Epoch 178/300\n",
            "15/15 [==============================] - 0s 1ms/step - loss: 0.4577 - accuracy: 0.8065\n",
            "Epoch 179/300\n",
            "15/15 [==============================] - 0s 1ms/step - loss: 0.4578 - accuracy: 0.8065\n",
            "Epoch 180/300\n",
            "15/15 [==============================] - 0s 2ms/step - loss: 0.4574 - accuracy: 0.8065\n",
            "Epoch 181/300\n",
            "15/15 [==============================] - 0s 1ms/step - loss: 0.4575 - accuracy: 0.8043\n",
            "Epoch 182/300\n",
            "15/15 [==============================] - 0s 1ms/step - loss: 0.4588 - accuracy: 0.8065\n",
            "Epoch 183/300\n",
            "15/15 [==============================] - 0s 1ms/step - loss: 0.4584 - accuracy: 0.8065\n",
            "Epoch 184/300\n",
            "15/15 [==============================] - 0s 2ms/step - loss: 0.4575 - accuracy: 0.8043\n",
            "Epoch 185/300\n",
            "15/15 [==============================] - 0s 2ms/step - loss: 0.4568 - accuracy: 0.8043\n",
            "Epoch 186/300\n",
            "15/15 [==============================] - 0s 1ms/step - loss: 0.4571 - accuracy: 0.8109\n",
            "Epoch 187/300\n",
            "15/15 [==============================] - 0s 2ms/step - loss: 0.4570 - accuracy: 0.8065\n",
            "Epoch 188/300\n",
            "15/15 [==============================] - 0s 2ms/step - loss: 0.4569 - accuracy: 0.8043\n",
            "Epoch 189/300\n",
            "15/15 [==============================] - 0s 1ms/step - loss: 0.4567 - accuracy: 0.8043\n",
            "Epoch 190/300\n",
            "15/15 [==============================] - 0s 1ms/step - loss: 0.4566 - accuracy: 0.8065\n",
            "Epoch 191/300\n",
            "15/15 [==============================] - 0s 2ms/step - loss: 0.4567 - accuracy: 0.8065\n",
            "Epoch 192/300\n",
            "15/15 [==============================] - 0s 2ms/step - loss: 0.4564 - accuracy: 0.8043\n",
            "Epoch 193/300\n",
            "15/15 [==============================] - 0s 1ms/step - loss: 0.4567 - accuracy: 0.8043\n",
            "Epoch 194/300\n",
            "15/15 [==============================] - 0s 1ms/step - loss: 0.4566 - accuracy: 0.8043\n",
            "Epoch 195/300\n",
            "15/15 [==============================] - 0s 1ms/step - loss: 0.4563 - accuracy: 0.8065\n",
            "Epoch 196/300\n",
            "15/15 [==============================] - 0s 1ms/step - loss: 0.4563 - accuracy: 0.8043\n",
            "Epoch 197/300\n",
            "15/15 [==============================] - 0s 2ms/step - loss: 0.4562 - accuracy: 0.8043\n",
            "Epoch 198/300\n",
            "15/15 [==============================] - 0s 2ms/step - loss: 0.4561 - accuracy: 0.8065\n",
            "Epoch 199/300\n",
            "15/15 [==============================] - 0s 2ms/step - loss: 0.4563 - accuracy: 0.8043\n",
            "Epoch 200/300\n",
            "15/15 [==============================] - 0s 2ms/step - loss: 0.4560 - accuracy: 0.8043\n",
            "Epoch 201/300\n",
            "15/15 [==============================] - 0s 2ms/step - loss: 0.4558 - accuracy: 0.8065\n",
            "Epoch 202/300\n",
            "15/15 [==============================] - 0s 2ms/step - loss: 0.4554 - accuracy: 0.8065\n",
            "Epoch 203/300\n",
            "15/15 [==============================] - 0s 1ms/step - loss: 0.4565 - accuracy: 0.8043\n",
            "Epoch 204/300\n",
            "15/15 [==============================] - 0s 1ms/step - loss: 0.4557 - accuracy: 0.8065\n",
            "Epoch 205/300\n",
            "15/15 [==============================] - 0s 1ms/step - loss: 0.4560 - accuracy: 0.8065\n",
            "Epoch 206/300\n",
            "15/15 [==============================] - 0s 1ms/step - loss: 0.4555 - accuracy: 0.8087\n",
            "Epoch 207/300\n",
            "15/15 [==============================] - 0s 1ms/step - loss: 0.4554 - accuracy: 0.8087\n",
            "Epoch 208/300\n",
            "15/15 [==============================] - 0s 2ms/step - loss: 0.4554 - accuracy: 0.8043\n",
            "Epoch 209/300\n",
            "15/15 [==============================] - 0s 1ms/step - loss: 0.4550 - accuracy: 0.8065\n",
            "Epoch 210/300\n",
            "15/15 [==============================] - 0s 1ms/step - loss: 0.4547 - accuracy: 0.8087\n",
            "Epoch 211/300\n",
            "15/15 [==============================] - 0s 1ms/step - loss: 0.4548 - accuracy: 0.8065\n",
            "Epoch 212/300\n",
            "15/15 [==============================] - 0s 1ms/step - loss: 0.4545 - accuracy: 0.8087\n",
            "Epoch 213/300\n",
            "15/15 [==============================] - 0s 2ms/step - loss: 0.4545 - accuracy: 0.8109\n",
            "Epoch 214/300\n",
            "15/15 [==============================] - 0s 2ms/step - loss: 0.4546 - accuracy: 0.8109\n",
            "Epoch 215/300\n",
            "15/15 [==============================] - 0s 2ms/step - loss: 0.4546 - accuracy: 0.8043\n",
            "Epoch 216/300\n",
            "15/15 [==============================] - 0s 2ms/step - loss: 0.4548 - accuracy: 0.8087\n",
            "Epoch 217/300\n",
            "15/15 [==============================] - 0s 1ms/step - loss: 0.4544 - accuracy: 0.8065\n",
            "Epoch 218/300\n",
            "15/15 [==============================] - 0s 1ms/step - loss: 0.4536 - accuracy: 0.8043\n",
            "Epoch 219/300\n",
            "15/15 [==============================] - 0s 1ms/step - loss: 0.4540 - accuracy: 0.8065\n",
            "Epoch 220/300\n",
            "15/15 [==============================] - 0s 1ms/step - loss: 0.4538 - accuracy: 0.8087\n",
            "Epoch 221/300\n",
            "15/15 [==============================] - 0s 2ms/step - loss: 0.4535 - accuracy: 0.8065\n",
            "Epoch 222/300\n",
            "15/15 [==============================] - 0s 2ms/step - loss: 0.4542 - accuracy: 0.8043\n",
            "Epoch 223/300\n",
            "15/15 [==============================] - 0s 1ms/step - loss: 0.4532 - accuracy: 0.8065\n",
            "Epoch 224/300\n",
            "15/15 [==============================] - 0s 2ms/step - loss: 0.4540 - accuracy: 0.8109\n",
            "Epoch 225/300\n",
            "15/15 [==============================] - 0s 2ms/step - loss: 0.4553 - accuracy: 0.8043\n",
            "Epoch 226/300\n",
            "15/15 [==============================] - 0s 1ms/step - loss: 0.4534 - accuracy: 0.8087\n",
            "Epoch 227/300\n",
            "15/15 [==============================] - 0s 2ms/step - loss: 0.4532 - accuracy: 0.8087\n",
            "Epoch 228/300\n",
            "15/15 [==============================] - 0s 1ms/step - loss: 0.4531 - accuracy: 0.8065\n",
            "Epoch 229/300\n",
            "15/15 [==============================] - 0s 1ms/step - loss: 0.4532 - accuracy: 0.8087\n",
            "Epoch 230/300\n",
            "15/15 [==============================] - 0s 2ms/step - loss: 0.4532 - accuracy: 0.8087\n",
            "Epoch 231/300\n",
            "15/15 [==============================] - 0s 2ms/step - loss: 0.4529 - accuracy: 0.8087\n",
            "Epoch 232/300\n",
            "15/15 [==============================] - 0s 1ms/step - loss: 0.4532 - accuracy: 0.8087\n",
            "Epoch 233/300\n",
            "15/15 [==============================] - 0s 1ms/step - loss: 0.4524 - accuracy: 0.8065\n",
            "Epoch 234/300\n",
            "15/15 [==============================] - 0s 1ms/step - loss: 0.4527 - accuracy: 0.8087\n",
            "Epoch 235/300\n",
            "15/15 [==============================] - 0s 1ms/step - loss: 0.4524 - accuracy: 0.8087\n",
            "Epoch 236/300\n",
            "15/15 [==============================] - 0s 1ms/step - loss: 0.4524 - accuracy: 0.8087\n",
            "Epoch 237/300\n",
            "15/15 [==============================] - 0s 1ms/step - loss: 0.4528 - accuracy: 0.8087\n",
            "Epoch 238/300\n",
            "15/15 [==============================] - 0s 2ms/step - loss: 0.4522 - accuracy: 0.8109\n",
            "Epoch 239/300\n",
            "15/15 [==============================] - 0s 1ms/step - loss: 0.4519 - accuracy: 0.8065\n",
            "Epoch 240/300\n",
            "15/15 [==============================] - 0s 1ms/step - loss: 0.4520 - accuracy: 0.8087\n",
            "Epoch 241/300\n",
            "15/15 [==============================] - 0s 1ms/step - loss: 0.4523 - accuracy: 0.8087\n",
            "Epoch 242/300\n",
            "15/15 [==============================] - 0s 1ms/step - loss: 0.4515 - accuracy: 0.8065\n",
            "Epoch 243/300\n",
            "15/15 [==============================] - 0s 1ms/step - loss: 0.4516 - accuracy: 0.8087\n",
            "Epoch 244/300\n",
            "15/15 [==============================] - 0s 2ms/step - loss: 0.4519 - accuracy: 0.8065\n",
            "Epoch 245/300\n",
            "15/15 [==============================] - 0s 1ms/step - loss: 0.4519 - accuracy: 0.8065\n",
            "Epoch 246/300\n",
            "15/15 [==============================] - 0s 1ms/step - loss: 0.4516 - accuracy: 0.8087\n",
            "Epoch 247/300\n",
            "15/15 [==============================] - 0s 2ms/step - loss: 0.4516 - accuracy: 0.8065\n",
            "Epoch 248/300\n",
            "15/15 [==============================] - 0s 1ms/step - loss: 0.4511 - accuracy: 0.8065\n",
            "Epoch 249/300\n",
            "15/15 [==============================] - 0s 2ms/step - loss: 0.4516 - accuracy: 0.8065\n",
            "Epoch 250/300\n",
            "15/15 [==============================] - 0s 2ms/step - loss: 0.4509 - accuracy: 0.8087\n",
            "Epoch 251/300\n",
            "15/15 [==============================] - 0s 2ms/step - loss: 0.4505 - accuracy: 0.8087\n",
            "Epoch 252/300\n",
            "15/15 [==============================] - 0s 1ms/step - loss: 0.4506 - accuracy: 0.8087\n",
            "Epoch 253/300\n",
            "15/15 [==============================] - 0s 1ms/step - loss: 0.4506 - accuracy: 0.8065\n",
            "Epoch 254/300\n",
            "15/15 [==============================] - 0s 1ms/step - loss: 0.4501 - accuracy: 0.8065\n",
            "Epoch 255/300\n",
            "15/15 [==============================] - 0s 1ms/step - loss: 0.4503 - accuracy: 0.8065\n",
            "Epoch 256/300\n",
            "15/15 [==============================] - 0s 2ms/step - loss: 0.4500 - accuracy: 0.8087\n",
            "Epoch 257/300\n",
            "15/15 [==============================] - 0s 2ms/step - loss: 0.4501 - accuracy: 0.8043\n",
            "Epoch 258/300\n",
            "15/15 [==============================] - 0s 1ms/step - loss: 0.4499 - accuracy: 0.8065\n",
            "Epoch 259/300\n",
            "15/15 [==============================] - 0s 1ms/step - loss: 0.4499 - accuracy: 0.8087\n",
            "Epoch 260/300\n",
            "15/15 [==============================] - 0s 1ms/step - loss: 0.4497 - accuracy: 0.8087\n",
            "Epoch 261/300\n",
            "15/15 [==============================] - 0s 1ms/step - loss: 0.4500 - accuracy: 0.8087\n",
            "Epoch 262/300\n",
            "15/15 [==============================] - 0s 2ms/step - loss: 0.4498 - accuracy: 0.8087\n",
            "Epoch 263/300\n",
            "15/15 [==============================] - 0s 1ms/step - loss: 0.4501 - accuracy: 0.8087\n",
            "Epoch 264/300\n",
            "15/15 [==============================] - 0s 1ms/step - loss: 0.4492 - accuracy: 0.8087\n",
            "Epoch 265/300\n",
            "15/15 [==============================] - 0s 1ms/step - loss: 0.4493 - accuracy: 0.8109\n",
            "Epoch 266/300\n",
            "15/15 [==============================] - 0s 2ms/step - loss: 0.4491 - accuracy: 0.8109\n",
            "Epoch 267/300\n",
            "15/15 [==============================] - 0s 1ms/step - loss: 0.4492 - accuracy: 0.8087\n",
            "Epoch 268/300\n",
            "15/15 [==============================] - 0s 1ms/step - loss: 0.4498 - accuracy: 0.8109\n",
            "Epoch 269/300\n",
            "15/15 [==============================] - 0s 1ms/step - loss: 0.4493 - accuracy: 0.8109\n",
            "Epoch 270/300\n",
            "15/15 [==============================] - 0s 2ms/step - loss: 0.4490 - accuracy: 0.8109\n",
            "Epoch 271/300\n",
            "15/15 [==============================] - 0s 2ms/step - loss: 0.4488 - accuracy: 0.8087\n",
            "Epoch 272/300\n",
            "15/15 [==============================] - 0s 1ms/step - loss: 0.4498 - accuracy: 0.8087\n",
            "Epoch 273/300\n",
            "15/15 [==============================] - 0s 1ms/step - loss: 0.4495 - accuracy: 0.8087\n",
            "Epoch 274/300\n",
            "15/15 [==============================] - 0s 1ms/step - loss: 0.4491 - accuracy: 0.8109\n",
            "Epoch 275/300\n",
            "15/15 [==============================] - 0s 1ms/step - loss: 0.4486 - accuracy: 0.8130\n",
            "Epoch 276/300\n",
            "15/15 [==============================] - 0s 1ms/step - loss: 0.4487 - accuracy: 0.8087\n",
            "Epoch 277/300\n",
            "15/15 [==============================] - 0s 1ms/step - loss: 0.4484 - accuracy: 0.8087\n",
            "Epoch 278/300\n",
            "15/15 [==============================] - 0s 1ms/step - loss: 0.4491 - accuracy: 0.8087\n",
            "Epoch 279/300\n",
            "15/15 [==============================] - 0s 2ms/step - loss: 0.4488 - accuracy: 0.8087\n",
            "Epoch 280/300\n",
            "15/15 [==============================] - 0s 2ms/step - loss: 0.4482 - accuracy: 0.8087\n",
            "Epoch 281/300\n",
            "15/15 [==============================] - 0s 1ms/step - loss: 0.4486 - accuracy: 0.8087\n",
            "Epoch 282/300\n",
            "15/15 [==============================] - 0s 1ms/step - loss: 0.4481 - accuracy: 0.8087\n",
            "Epoch 283/300\n",
            "15/15 [==============================] - 0s 2ms/step - loss: 0.4481 - accuracy: 0.8109\n",
            "Epoch 284/300\n",
            "15/15 [==============================] - 0s 1ms/step - loss: 0.4490 - accuracy: 0.8109\n",
            "Epoch 285/300\n",
            "15/15 [==============================] - 0s 1ms/step - loss: 0.4482 - accuracy: 0.8109\n",
            "Epoch 286/300\n",
            "15/15 [==============================] - 0s 1ms/step - loss: 0.4475 - accuracy: 0.8109\n",
            "Epoch 287/300\n",
            "15/15 [==============================] - 0s 2ms/step - loss: 0.4476 - accuracy: 0.8130\n",
            "Epoch 288/300\n",
            "15/15 [==============================] - 0s 1ms/step - loss: 0.4479 - accuracy: 0.8109\n",
            "Epoch 289/300\n",
            "15/15 [==============================] - 0s 1ms/step - loss: 0.4478 - accuracy: 0.8109\n",
            "Epoch 290/300\n",
            "15/15 [==============================] - 0s 2ms/step - loss: 0.4483 - accuracy: 0.8130\n",
            "Epoch 291/300\n",
            "15/15 [==============================] - 0s 2ms/step - loss: 0.4472 - accuracy: 0.8109\n",
            "Epoch 292/300\n",
            "15/15 [==============================] - 0s 1ms/step - loss: 0.4475 - accuracy: 0.8109\n",
            "Epoch 293/300\n",
            "15/15 [==============================] - 0s 2ms/step - loss: 0.4472 - accuracy: 0.8109\n",
            "Epoch 294/300\n",
            "15/15 [==============================] - 0s 1ms/step - loss: 0.4478 - accuracy: 0.8130\n",
            "Epoch 295/300\n",
            "15/15 [==============================] - 0s 1ms/step - loss: 0.4474 - accuracy: 0.8130\n",
            "Epoch 296/300\n",
            "15/15 [==============================] - 0s 1ms/step - loss: 0.4471 - accuracy: 0.8130\n",
            "Epoch 297/300\n",
            "15/15 [==============================] - 0s 2ms/step - loss: 0.4470 - accuracy: 0.8130\n",
            "Epoch 298/300\n",
            "15/15 [==============================] - 0s 2ms/step - loss: 0.4472 - accuracy: 0.8130\n",
            "Epoch 299/300\n",
            "15/15 [==============================] - 0s 1ms/step - loss: 0.4479 - accuracy: 0.8130\n",
            "Epoch 300/300\n",
            "15/15 [==============================] - 0s 2ms/step - loss: 0.4475 - accuracy: 0.8109\n"
          ],
          "name": "stdout"
        },
        {
          "output_type": "execute_result",
          "data": {
            "text/plain": [
              "<tensorflow.python.keras.callbacks.History at 0x7f26688ea710>"
            ]
          },
          "metadata": {
            "tags": []
          },
          "execution_count": 27
        }
      ]
    },
    {
      "cell_type": "code",
      "metadata": {
        "id": "ccLf6SdD7A6V",
        "colab_type": "code",
        "colab": {}
      },
      "source": [
        "y_pred = []\n",
        "for predictions in range (len(ann.predict(X_test))):\n",
        "  y_pred.append(0) if ann.predict(X_test)[predictions]<=0.5 else y_pred.append(1)\n"
      ],
      "execution_count": 28,
      "outputs": []
    },
    {
      "cell_type": "code",
      "metadata": {
        "id": "i9f28_CU8Rcv",
        "colab_type": "code",
        "colab": {
          "base_uri": "https://localhost:8080/",
          "height": 218
        },
        "outputId": "369b300a-a4f5-4530-eb9b-cb8eb5f9ae7b"
      },
      "source": [
        "from sklearn.metrics import accuracy_score,confusion_matrix,classification_report\n",
        "print(accuracy_score(y_test,y_pred))\n",
        "print(confusion_matrix(y_test,y_pred))\n",
        "print(classification_report(y_test,y_pred))"
      ],
      "execution_count": 29,
      "outputs": [
        {
          "output_type": "stream",
          "text": [
            "0.8571428571428571\n",
            "[[ 23  20]\n",
            " [  2 109]]\n",
            "              precision    recall  f1-score   support\n",
            "\n",
            "           0       0.92      0.53      0.68        43\n",
            "           1       0.84      0.98      0.91       111\n",
            "\n",
            "    accuracy                           0.86       154\n",
            "   macro avg       0.88      0.76      0.79       154\n",
            "weighted avg       0.87      0.86      0.84       154\n",
            "\n"
          ],
          "name": "stdout"
        }
      ]
    },
    {
      "cell_type": "code",
      "metadata": {
        "id": "mlyzU-7fCyws",
        "colab_type": "code",
        "colab": {}
      },
      "source": [
        ""
      ],
      "execution_count": 29,
      "outputs": []
    }
  ]
}
