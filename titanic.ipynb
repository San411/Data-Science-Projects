{
  "nbformat": 4,
  "nbformat_minor": 0,
  "metadata": {
    "colab": {
      "name": "titanic",
      "provenance": []
    },
    "kernelspec": {
      "name": "python3",
      "display_name": "Python 3"
    }
  },
  "cells": [
    {
      "cell_type": "code",
      "metadata": {
        "id": "Y25hg0YQ6F80",
        "colab_type": "code",
        "colab": {}
      },
      "source": [
        "import numpy as np\n",
        "import matplotlib.pyplot as plt\n",
        "import pandas as pd"
      ],
      "execution_count": null,
      "outputs": []
    },
    {
      "cell_type": "code",
      "metadata": {
        "id": "9ndZeIKo_f5K",
        "colab_type": "code",
        "colab": {
          "base_uri": "https://localhost:8080/",
          "height": 185
        },
        "outputId": "7db0f493-c1b4-415e-9314-7b3c1360ecb5"
      },
      "source": [
        "dataframe = pd.read_csv('train.csv')\n",
        "dataframe[\"Name\"], dataframe[\"Pclass\"] = dataframe[\"Pclass\"], dataframe[\"Name\"] \n",
        "dataframe = dataframe.rename(columns={\"Pclass\":\"Name\", \"Name\":\"Pclass\"})\n",
        "dataframe = np.array(dataframe)\n",
        "dataframe[: ,[8,9]] = dataframe[: ,[9,8]]\n",
        "test = pd.read_csv('test.csv')\n",
        "PassengerId = test.iloc[: ,0:1].values\n",
        "test[\"Name\"], test[\"Pclass\"] = test[\"Pclass\"], test[\"Name\"]\n",
        "test = test.rename(columns={\"Pclass\":\"Name\", \"Name\":\"Pclass\"})\n",
        "test = np.array(test)\n",
        "test[: ,[7,8]] = test[: ,[8,7]]\n",
        "test"
      ],
      "execution_count": null,
      "outputs": [
        {
          "output_type": "execute_result",
          "data": {
            "text/plain": [
              "array([[892, 'Kelly, Mr. James', 3, ..., '330911', nan, 'Q'],\n",
              "       [893, 'Wilkes, Mrs. James (Ellen Needs)', 3, ..., '363272', nan,\n",
              "        'S'],\n",
              "       [894, 'Myles, Mr. Thomas Francis', 2, ..., '240276', nan, 'Q'],\n",
              "       ...,\n",
              "       [1307, 'Saether, Mr. Simon Sivertsen', 3, ...,\n",
              "        'SOTON/O.Q. 3101262', nan, 'S'],\n",
              "       [1308, 'Ware, Mr. Frederick', 3, ..., '359309', nan, 'S'],\n",
              "       [1309, 'Peter, Master. Michael J', 3, ..., '2668', nan, 'C']],\n",
              "      dtype=object)"
            ]
          },
          "metadata": {
            "tags": []
          },
          "execution_count": 16
        }
      ]
    },
    {
      "cell_type": "code",
      "metadata": {
        "id": "jY82_6Q7B6Zx",
        "colab_type": "code",
        "colab": {}
      },
      "source": [
        "X = dataframe[: ,3:10]\n",
        "y = dataframe[: ,1]\n",
        "test = test[: ,2:9]\n",
        "y = np.array(y) \n",
        "y=y.astype('int')"
      ],
      "execution_count": null,
      "outputs": []
    },
    {
      "cell_type": "code",
      "metadata": {
        "id": "n0lrmjoNgKEr",
        "colab_type": "code",
        "colab": {
          "base_uri": "https://localhost:8080/",
          "height": 134
        },
        "outputId": "13ee58d7-abfd-4c91-a4fd-96834383743c"
      },
      "source": [
        "print(test)"
      ],
      "execution_count": null,
      "outputs": [
        {
          "output_type": "stream",
          "text": [
            "[[3 'male' 34.5 ... 0 'Q' 7.8292]\n",
            " [3 'female' 47.0 ... 0 'S' 7.0]\n",
            " [2 'male' 62.0 ... 0 'Q' 9.6875]\n",
            " ...\n",
            " [3 'male' 38.5 ... 0 'S' 7.25]\n",
            " [3 'male' nan ... 0 'S' 8.05]\n",
            " [3 'male' nan ... 1 'C' 22.3583]]\n"
          ],
          "name": "stdout"
        }
      ]
    },
    {
      "cell_type": "code",
      "metadata": {
        "id": "D0oU4U2KgMjr",
        "colab_type": "code",
        "colab": {
          "base_uri": "https://localhost:8080/",
          "height": 134
        },
        "outputId": "3273a13d-932f-4f3d-936c-a70ed7ff4df2"
      },
      "source": [
        "print(X)"
      ],
      "execution_count": null,
      "outputs": [
        {
          "output_type": "stream",
          "text": [
            "[[3 'male' 22.0 ... 0 'S' 7.25]\n",
            " [1 'female' 38.0 ... 0 'C' 71.2833]\n",
            " [3 'female' 26.0 ... 0 'S' 7.925]\n",
            " ...\n",
            " [3 'female' nan ... 2 'S' 23.45]\n",
            " [1 'male' 26.0 ... 0 'C' 30.0]\n",
            " [3 'male' 32.0 ... 0 'Q' 7.75]]\n"
          ],
          "name": "stdout"
        }
      ]
    },
    {
      "cell_type": "code",
      "metadata": {
        "id": "80f-IIMKC-X5",
        "colab_type": "code",
        "colab": {}
      },
      "source": [
        "from sklearn.impute import SimpleImputer\n",
        "si = SimpleImputer(missing_values = np.nan, strategy = \"most_frequent\")\n",
        "si.fit(X)\n",
        "X = si.transform(X)\n",
        "si_test = SimpleImputer(missing_values = np.nan, strategy = \"most_frequent\")\n",
        "si_test.fit(test)\n",
        "test = si_test.transform(test)"
      ],
      "execution_count": null,
      "outputs": []
    },
    {
      "cell_type": "code",
      "metadata": {
        "id": "x9XdScszEhoV",
        "colab_type": "code",
        "colab": {}
      },
      "source": [
        "from sklearn.compose import ColumnTransformer\n",
        "from sklearn.preprocessing import OneHotEncoder\n",
        "ct = ColumnTransformer(transformers = [('encoder', OneHotEncoder(), [1,-2])], remainder = 'passthrough') \n",
        "X = ct.fit_transform(X) \n",
        "ct_test = ColumnTransformer(transformers = [('encoder', OneHotEncoder(), [1,-2])], remainder = 'passthrough')\n",
        "test = ct_test.fit_transform(test) "
      ],
      "execution_count": null,
      "outputs": []
    },
    {
      "cell_type": "code",
      "metadata": {
        "id": "qoj9n02t87Mr",
        "colab_type": "code",
        "colab": {
          "base_uri": "https://localhost:8080/",
          "height": 34
        },
        "outputId": "76749dfc-65cd-4afd-b723-b4e17d0662cd"
      },
      "source": [
        "X[0]"
      ],
      "execution_count": null,
      "outputs": [
        {
          "output_type": "execute_result",
          "data": {
            "text/plain": [
              "array([0.0, 1.0, 0.0, 0.0, 1.0, 3, 22.0, 1, 0, 7.25], dtype=object)"
            ]
          },
          "metadata": {
            "tags": []
          },
          "execution_count": 8
        }
      ]
    },
    {
      "cell_type": "code",
      "metadata": {
        "id": "Tl7lskhpHDSy",
        "colab_type": "code",
        "colab": {
          "base_uri": "https://localhost:8080/",
          "height": 34
        },
        "outputId": "e8bd73d8-56c6-468b-fe8e-d5b66a270b27"
      },
      "source": [
        "test[1]"
      ],
      "execution_count": null,
      "outputs": [
        {
          "output_type": "execute_result",
          "data": {
            "text/plain": [
              "array([1.0, 0.0, 0.0, 0.0, 1.0, 3, 47.0, 1, 0, 7.0], dtype=object)"
            ]
          },
          "metadata": {
            "tags": []
          },
          "execution_count": 9
        }
      ]
    },
    {
      "cell_type": "code",
      "metadata": {
        "id": "YXrCmQwyG2zS",
        "colab_type": "code",
        "colab": {}
      },
      "source": [
        "from sklearn.preprocessing import StandardScaler\n",
        "sc = StandardScaler()\n",
        "X[: ,-4:] = sc.fit_transform(X[: ,-4:])\n",
        "test[: ,-4:] = sc.transform(test[: ,-4:])"
      ],
      "execution_count": null,
      "outputs": []
    },
    {
      "cell_type": "code",
      "metadata": {
        "id": "DQ9HpNZ4ICVJ",
        "colab_type": "code",
        "colab": {
          "base_uri": "https://localhost:8080/",
          "height": 235
        },
        "outputId": "7e6edc85-773c-4a27-fb62-1a63da357902"
      },
      "source": [
        "X"
      ],
      "execution_count": null,
      "outputs": [
        {
          "output_type": "execute_result",
          "data": {
            "text/plain": [
              "array([[0.0, 1.0, 0.0, ..., 0.43279336567850346, -0.473673609298456,\n",
              "        -0.5024451714361915],\n",
              "       [1.0, 0.0, 1.0, ..., 0.43279336567850346, -0.473673609298456,\n",
              "        0.7868452935884467],\n",
              "       [1.0, 0.0, 0.0, ..., -0.4745451962498414, -0.473673609298456,\n",
              "        -0.4888542575852478],\n",
              "       ...,\n",
              "       [1.0, 0.0, 0.0, ..., 0.43279336567850346, 2.0089333664952163,\n",
              "        -0.1762632390135436],\n",
              "       [0.0, 1.0, 1.0, ..., -0.4745451962498414, -0.473673609298456,\n",
              "        -0.0443810379414236],\n",
              "       [0.0, 1.0, 0.0, ..., -0.4745451962498414, -0.473673609298456,\n",
              "        -0.49237782784289985]], dtype=object)"
            ]
          },
          "metadata": {
            "tags": []
          },
          "execution_count": 11
        }
      ]
    },
    {
      "cell_type": "code",
      "metadata": {
        "id": "3MoMEZVtHLXV",
        "colab_type": "code",
        "colab": {
          "base_uri": "https://localhost:8080/",
          "height": 84
        },
        "outputId": "41ce79e3-eb99-40f0-8246-a1248f74b72a"
      },
      "source": [
        "from sklearn.svm import SVC\n",
        "classifier = SVC(kernel = 'rbf', random_state = 42)\n",
        "classifier.fit(X, y)"
      ],
      "execution_count": null,
      "outputs": [
        {
          "output_type": "execute_result",
          "data": {
            "text/plain": [
              "SVC(C=1.0, break_ties=False, cache_size=200, class_weight=None, coef0=0.0,\n",
              "    decision_function_shape='ovr', degree=3, gamma='scale', kernel='rbf',\n",
              "    max_iter=-1, probability=False, random_state=42, shrinking=True, tol=0.001,\n",
              "    verbose=False)"
            ]
          },
          "metadata": {
            "tags": []
          },
          "execution_count": 12
        }
      ]
    },
    {
      "cell_type": "code",
      "metadata": {
        "id": "OuuZ0czRjwok",
        "colab_type": "code",
        "colab": {
          "base_uri": "https://localhost:8080/",
          "height": 34
        },
        "outputId": "375d974c-31e5-43d4-fe45-6a05c1845171"
      },
      "source": [
        "len(y_pred)"
      ],
      "execution_count": null,
      "outputs": [
        {
          "output_type": "execute_result",
          "data": {
            "text/plain": [
              "418"
            ]
          },
          "metadata": {
            "tags": []
          },
          "execution_count": 14
        }
      ]
    },
    {
      "cell_type": "markdown",
      "metadata": {
        "id": "5kv-dvMQ26xQ",
        "colab_type": "text"
      },
      "source": [
        "Score obtained : 0.7799"
      ]
    },
    {
      "cell_type": "code",
      "metadata": {
        "id": "tkQsWg6FOo3k",
        "colab_type": "code",
        "colab": {}
      },
      "source": [
        "LR = KNN = 0.8161434977578476\n",
        "SVC = 0.7847533632286996\n",
        "SVM = 0.8251121076233184\n",
        "NB = 0.7982062780269058\n",
        "DT = 0.7488789237668162\n",
        "DT_adaboost = 0.7847533632286996\n",
        "RF = 0.7892376681614349"
      ],
      "execution_count": null,
      "outputs": []
    }
  ]
}